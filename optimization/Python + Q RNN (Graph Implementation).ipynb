{
 "cells": [
  {
   "cell_type": "markdown",
   "metadata": {},
   "source": [
    "# Quantum RNN para Coloração de Grafos"
   ]
  },
  {
   "cell_type": "markdown",
   "metadata": {},
   "source": [
    "Partes do código do repo: [AgentANAKIN Q-RNN](https://github.com/AgentANAKIN/Quantum-Neural-Network \"Quantum Neural Network\"), que propõe uma rede neural simples quântica, possível de ser usada como base para maiores implementações.\n",
    "\n",
    "Adaptações feitas para solucionar a coloração de grafos com essa implementação.\n",
    "\n",
    "### Configurações \n",
    "\n",
    "Para configurar a rede base para uso no **IBM Quantum Experience**:\n",
    "\n",
    "- Usar o API token como variável de ambiente;\n",
    "- Salvar o token para não precisar reiniciar;\n",
    "- De preferência usar uma virtualenv."
   ]
  },
  {
   "cell_type": "code",
   "execution_count": 19,
   "metadata": {},
   "outputs": [
    {
     "name": "stderr",
     "output_type": "stream",
     "text": [
      "Credentials already present. Set overwrite=True to overwrite.\n"
     ]
    }
   ],
   "source": [
    "import os\n",
    "\n",
    "from qiskit import Aer, ClassicalRegister, execute, QuantumCircuit, QuantumRegister, IBMQ\n",
    "from qiskit.tools.monitor import job_monitor\n",
    "from numpy import exp, array, random, dot\n",
    "\n",
    "API_TOKEN = os.getenv('API_TOKEN')\n",
    "IBMQ.save_account(API_TOKEN)"
   ]
  },
  {
   "cell_type": "code",
   "execution_count": 32,
   "metadata": {},
   "outputs": [],
   "source": [
    "import matplotlib.pyplot as plt\n",
    "import matplotlib.axes as axes\n",
    "%matplotlib inline\n",
    "import numpy as np\n",
    "import networkx as nx\n",
    "\n",
    "import time"
   ]
  },
  {
   "cell_type": "markdown",
   "metadata": {},
   "source": [
    "### Métodos para medição\n",
    "\n",
    "Com o código a baixo é possível \"setar\" os backends, ou para real, ou para simulado. O simulado é o mesmo utilzado nos códigos para coloração de grafos que eu implementei no outro notebook. Mas para esse aqui, eu coloquei para rodar em backends reais nas localidades disponíveis para minha conta no IBM Q Experience.\n",
    "\n",
    "- Primeiro verifica se o backend escolhido está disponível;\n",
    "- Depois são configurados os medidores;\n",
    "- Por fim, é feita a conversão das medições;"
   ]
  },
  {
   "cell_type": "code",
   "execution_count": 20,
   "metadata": {},
   "outputs": [],
   "source": [
    "def quniform(min, max):\n",
    "    range = max - min\n",
    "    qaddend = range * qmeasure('sim')\n",
    "    qsum = qaddend + min\n",
    "    return qsum\n",
    "\n",
    "def qquniform(min, max):\n",
    "    range = max - min\n",
    "    qaddend = range * qmeasure('real')\n",
    "    qsum = qaddend + min\n",
    "    return qsum\n",
    "\n",
    "def qmeasure(hardware):\n",
    "    if (hardware == 'real'):\n",
    "        qubits = 14\n",
    "        #from qiskit.providers.ibmq import least_busy\n",
    "        #backend = least_busy(IBMQ.backends())\n",
    "        provider = IBMQ.load_account()\n",
    "        backend = provider.get_backend('ibmq_16_melbourne')\n",
    "    else:\n",
    "        qubits = 32\n",
    "        backend = Aer.get_backend('qasm_simulator')\n",
    "        \n",
    "    q = QuantumRegister(qubits) \n",
    "    c = ClassicalRegister(qubits) \n",
    "    qc = QuantumCircuit(q, c) # initialize the circuit\n",
    "\n",
    "    i = 0\n",
    "    while i < qubits:\n",
    "        qc.h(q[i]) # put all qubits into superposition states\n",
    "        i = i + 1\n",
    "   \n",
    "    qc.measure(q, c) # collapse the superpositions and get random zeroes and ones\n",
    "    job = execute(qc, backend=backend, shots=1)\n",
    "    job_monitor(job)\n",
    "    result = job.result()\n",
    "    mraw = result.get_counts(qc)\n",
    "    m = str(mraw)\n",
    "    subtotal = 0\n",
    "    for i in range(qubits):\n",
    "        subtotal = subtotal + (int(m[i+2]) * 2**(i)) # convert each binary digit to its decimal value, but read left-to-right for simplicity\n",
    "    multiplier = subtotal / (2**qubits) # convert the measurement to a value between 0 and 1\n",
    "    \n",
    "    return multiplier"
   ]
  },
  {
   "cell_type": "code",
   "execution_count": 21,
   "metadata": {},
   "outputs": [],
   "source": [
    "class neural_network:\n",
    "    def __init__(self):\n",
    "        self.weights = []\n",
    "        self.weights.append([qquniform(-1, 1)])\n",
    "        self.weights.append([qquniform(-1, 1)])\n",
    "        print(\"self.weights \",self.weights)\n",
    "\n",
    "    def train(self, inputs, outputs, num):\n",
    "        for iteration in range(num):\n",
    "            output = self.think(inputs)\n",
    "            error = outputs - output\n",
    "            adjustment = 0.01*dot(inputs.T, error)\n",
    "            self.weights += adjustment\n",
    "\n",
    "    def think(self, inputs):\n",
    "        return (dot(inputs, self.weights))\n"
   ]
  },
  {
   "cell_type": "markdown",
   "metadata": {},
   "source": [
    "______________________________________________________________________________________________________________________"
   ]
  },
  {
   "cell_type": "markdown",
   "metadata": {},
   "source": [
    "### Adaptações para implementação com um grafo\n",
    "- Devem ser gerados conjuntos de entradas e saidas com a coloração para treino.\n",
    "- Essas entradas serão _arrays_ que terão as informações dos vértices dos grafos.\n",
    "- A saída é a coloração do grafo em um _array_ da mesma forma."
   ]
  },
  {
   "cell_type": "code",
   "execution_count": 36,
   "metadata": {},
   "outputs": [],
   "source": [
    "def timeit(func):\n",
    "    def wrap(*args, **kwargs):\n",
    "        time1 = time.time()\n",
    "        ret = func(*args, **kwargs)\n",
    "        time2 = time.time()\n",
    "        print('{:s} function took {:.3f} ms'.format(func.__name__, (time2-time1)*1000.0))\n",
    "\n",
    "        return ret\n",
    "    return wrap"
   ]
  },
  {
   "cell_type": "markdown",
   "metadata": {},
   "source": [
    "Acima um decorator simples para contar tempo. "
   ]
  },
  {
   "cell_type": "code",
   "execution_count": 37,
   "metadata": {},
   "outputs": [],
   "source": [
    "@timeit\n",
    "def generate_G(n):\n",
    "    G=nx.Graph()\n",
    "    G.add_nodes_from(np.arange(0,n,1))\n",
    "    elist=[(0,1,1.0),(0,2,1.0),(0,3,1.0),(1,2,1.0),(2,3,1.0),(1,4,1.0),(4,0,1.0)]\n",
    "    # tuple is (i,j,weight) where (i,j) is the edge\n",
    "    G.add_weighted_edges_from(elist)\n",
    "    return G\n",
    "\n",
    "@timeit\n",
    "def create_color_map(G):\n",
    "    color_map = {}\n",
    "    for node in G.nodes:\n",
    "        available_colors = [True] * (len(G.nodes))\n",
    "        for neighbor in G.neighbors(node):\n",
    "              if neighbor in color_map:\n",
    "                color = color_map[neighbor]\n",
    "                available_colors[color] = False\n",
    "        for color, available in enumerate(available_colors):\n",
    "              if available:\n",
    "                color_map[node] = color\n",
    "                break\n",
    "    return color_map\n",
    "\n",
    "@timeit\n",
    "def color_nodes(color_map):\n",
    "    colors = ['','','','','']\n",
    "    for i in range(len(color_map)):\n",
    "        if color_map[i] == 2:\n",
    "            colors[i] = 'r'\n",
    "        elif color_map[i] == 1:\n",
    "            colors[i] = 'g'\n",
    "        elif color_map[i] == 0:\n",
    "            colors[i] = 'b'\n",
    "    return colors\n",
    "\n",
    "@timeit\n",
    "def plot_graph(G, color_map, colo):\n",
    "    pos = nx.spring_layout(G)\n",
    "    default_axes = plt.axes(frameon=True)\n",
    "    nx.draw_networkx(G, node_color=colors, node_size=600, alpha=.8, ax=default_axes, pos=pos)"
   ]
  },
  {
   "cell_type": "markdown",
   "metadata": {},
   "source": [
    "O Grafo gerado"
   ]
  },
  {
   "cell_type": "code",
   "execution_count": 38,
   "metadata": {},
   "outputs": [
    {
     "name": "stdout",
     "output_type": "stream",
     "text": [
      "generate_G function took 2.751 ms\n",
      "create_color_map function took 0.035 ms\n",
      "color_nodes function took 0.008 ms\n",
      "plot_graph function took 118.531 ms\n"
     ]
    },
    {
     "data": {
      "image/png": "[encoded data removed]",
      "text/plain": [
       "<Figure size 432x288 with 1 Axes>"
      ]
     },
     "metadata": {},
     "output_type": "display_data"
    }
   ],
   "source": [
    "G = generate_G(5)\n",
    "color_map = create_color_map(G)\n",
    "colors = color_nodes(color_map)\n",
    "plot_graph(G, color_map, colors)"
   ]
  },
  {
   "cell_type": "markdown",
   "metadata": {},
   "source": [
    "O mapeamento de cores será usado como output"
   ]
  },
  {
   "cell_type": "code",
   "execution_count": 24,
   "metadata": {},
   "outputs": [
    {
     "name": "stdout",
     "output_type": "stream",
     "text": [
      "{0: 0, 1: 1, 2: 2, 3: 1, 4: 2}\n"
     ]
    }
   ],
   "source": [
    "print(color_map)"
   ]
  },
  {
   "cell_type": "code",
   "execution_count": null,
   "metadata": {},
   "outputs": [],
   "source": [
    "neural_network = neural_network()\n",
    "        \n",
    "# training data\n",
    "inputs = array([[[0,1],[0,2],[0,3],[1,2],[2,3],[1,4],[4,0]]])\n",
    "outputs = array([[0, 1, 2, 1, 2]]).T\n",
    "\n",
    "neural_network.train(inputs, outputs, 10000)\n",
    "\n",
    "print(neural_network.think(array([[4, 0]])))\n",
    "print(neural_network.think(array([[1, 4]])))\n",
    "print(neural_network.think(array([[2, 3]])))\n",
    "print(neural_network.think(array([[1, 2]])))\n",
    "print(neural_network.think(array([[0, 3]])))\n",
    "print(neural_network.think(array([[0, 2]])))\n",
    "print(neural_network.think(array([[0, 1]])))"
   ]
  },
  {
   "cell_type": "markdown",
   "metadata": {},
   "source": [
    "Com esse código é possível treinar uma rede simples com as entradas sendo os vértices do Grafo. O código deve ser escalado para poder treinar a rede com um número maior de grafos.\n",
    "\n",
    "Obs.: Essa parte de trasnformar de volta os dados está dando mais trabalho. Mas consigo obter resultados com 1 grafo pelo menos na rede simples.\n",
    "\n",
    "Estou pesquisando uma maneira de normalizar a entrada para que esse erro não ocorra quando tento escalar o código."
   ]
  },
  {
   "cell_type": "markdown",
   "metadata": {},
   "source": [
    "______________________________________________________________________________________________________________________"
   ]
  },
  {
   "cell_type": "markdown",
   "metadata": {},
   "source": [
    "## Anotações sobre os outros assuntos"
   ]
  },
  {
   "cell_type": "markdown",
   "metadata": {},
   "source": [
    "### Tabu Algorithm Search \n",
    "\n",
    "(Para a Prof. Karla sobre o que haviamos falado)\n",
    "\n",
    "A ideia básica da pesquisa tabu é uma \"mudança\" ou \"move\" em uma topologia inicial, que resulta em uma solução de \"vizinhança\". Para cada topologia atual, são avaliadas todas as soluções vizinhas otimizando a função objetivo no roteamento e escolha o ideal.\n",
    "\n",
    "O principal componente na pesquisa tabu é a definição de \"mover\". Suponha que tenhamos obtido um projeto de topologia (um projeto inicial pode ser obtido a partir de uma abordagem heurística simples). Então encontramos um ciclo de _l_-salto onde _l_ ≤ 8. A seleção do próximo salto, se o nó atual no ciclo for o _i_ésimo, segue a regra subsequente:\n",
    "\n",
    "• Se _i_ for ímpar, selecione um link lógico de entrada e vá para o nó no lado oposto.\n",
    "\n",
    "• Se _i_ for par, selecione qualquer nó que ainda não tenha estado no ciclo.\n",
    "\n",
    "Quando um ciclo é encontrado, avalie o grau de cada nó. Se o grau de um nó for aumentado após a seleção do ciclo, remova as arestas supérfluas do gráfico."
   ]
  },
  {
   "cell_type": "markdown",
   "metadata": {},
   "source": [
    "### Métricas para medições Q\n",
    "\n",
    "Na última reunião de quamtum que entrei lá no grupo, o Profissinal que falou era da área de Otimização com Computação Quântica. Ele falou sobre o quão importante é essa área de pesquisa para o Q-Advantage na IBM e falou sobre tudo que utiliza variações ou algorimos de variações tem ainda muito estudo a ser feito. \n",
    "\n",
    "O que foi discutido sobre as métricas foi que comparações com otimizadores clássicos são sempre um desafio. \n",
    "\n",
    "- Por exemplo na última rodada do algoritmo para a rede com grafos:\n",
    "    - In queue 50.4s (O tempo que ficou na fila para ser executado)\n",
    "    - Running 5.5s (O tempo que demorou para executar o algoritmo no computador)\n",
    "    - Tempo de vadilação que não é fornecido +\n",
    "    - O tempo total de 1m 2.8s\n",
    "- Para os métodos clássicos:\n",
    "    - generate_G function took 2.751 ms\n",
    "    - create_color_map function took 0.035 ms\n",
    "    - color_nodes function took 0.008 ms\n",
    "    - plot_graph function took 118.531 ms\n",
    "    - Tempo total de 0.121325 s (Ainda não é uma comparação fair)\n",
    "    \n",
    "Algumas infos a mais:\n",
    "\n",
    "A arquitetura que está sendo usada (Para o prof. Serra)\n",
    "\n",
    "![Q_arch](arch_Q.png)"
   ]
  },
  {
   "cell_type": "markdown",
   "metadata": {},
   "source": [
    "Em outro anexo está o csv que consegui exportar as calibrações feitas para o circuito gerado para essa rede. "
   ]
  },
  {
   "cell_type": "code",
   "execution_count": null,
   "metadata": {},
   "outputs": [],
   "source": []
  }
 ],
 "metadata": {
  "kernelspec": {
   "display_name": "Python 3",
   "language": "python",
   "name": "python3"
  }
 },
 "nbformat": 4,
 "nbformat_minor": 2
}
