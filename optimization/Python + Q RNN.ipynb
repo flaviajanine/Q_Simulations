{
 "cells": [
  {
   "cell_type": "markdown",
   "metadata": {},
   "source": [
    "# Quantum RNN"
   ]
  },
  {
   "cell_type": "markdown",
   "metadata": {},
   "source": [
    "Partes do código do repo: [AgentANAKIN Q-RNN](https://github.com/AgentANAKIN/Quantum-Neural-Network \"Quantum Neural Network\"), que propõe uma rede neural simples quântica, possível de ser usada como base para maiores implementações.\n",
    "\n",
    "### Configurações \n",
    "\n",
    "Para configurar a rede base para uso no **IBM Quantum Experience**:\n",
    "\n",
    "- Usar o API token como variável de ambiente;\n",
    "- Salvar o token para não precisar reiniciar;\n",
    "- De preferência usar uma virtualenv."
   ]
  },
  {
   "cell_type": "code",
   "execution_count": 1,
   "metadata": {},
   "outputs": [
    {
     "name": "stderr",
     "output_type": "stream",
     "text": [
      "Credentials already present. Set overwrite=True to overwrite.\n"
     ]
    }
   ],
   "source": [
    "import os\n",
    "\n",
    "from qiskit import Aer, ClassicalRegister, execute, QuantumCircuit, QuantumRegister, IBMQ\n",
    "from qiskit.tools.monitor import job_monitor\n",
    "from numpy import exp, array, random, dot\n",
    "\n",
    "API_TOKEN = os.getenv('API_TOKEN')\n",
    "IBMQ.save_account(API_TOKEN)"
   ]
  },
  {
   "cell_type": "markdown",
   "metadata": {},
   "source": [
    "### Métodos para medição\n",
    "\n",
    "Com o código a baixo é possível \"setar\" os backends, ou para real, ou para simulado. O simulado é o mesmo utilzado nos códigos para coloração de grafos que eu implementei no outro notebook. Mas para esse aqui, eu coloquei para rodar em backends reais nas localidades disponíveis para minha conta no IBM Q Experience.\n",
    "\n",
    "- Primeiro verifica se o backend escolhido está disponível;\n",
    "- Depois são configurados os medidores;\n",
    "- Por fim, é feita a conversão das medições;"
   ]
  },
  {
   "cell_type": "code",
   "execution_count": 2,
   "metadata": {},
   "outputs": [],
   "source": [
    "def quniform(min, max):\n",
    "    range = max - min\n",
    "    qaddend = range * qmeasure('sim')\n",
    "    qsum = qaddend + min\n",
    "    return qsum\n",
    "\n",
    "def qquniform(min, max):\n",
    "    range = max - min\n",
    "    qaddend = range * qmeasure('real')\n",
    "    qsum = qaddend + min\n",
    "    return qsum\n",
    "\n",
    "def qmeasure(hardware):\n",
    "    if (hardware == 'real'):\n",
    "        qubits = 14\n",
    "        #from qiskit.providers.ibmq import least_busy\n",
    "        #backend = least_busy(IBMQ.backends())\n",
    "        provider = IBMQ.load_account()\n",
    "        backend = provider.get_backend('ibmq_16_melbourne')\n",
    "    else:\n",
    "        qubits = 32\n",
    "        backend = Aer.get_backend('qasm_simulator')\n",
    "        \n",
    "    q = QuantumRegister(qubits) \n",
    "    c = ClassicalRegister(qubits) \n",
    "    qc = QuantumCircuit(q, c) # initialize the circuit\n",
    "\n",
    "    i = 0\n",
    "    while i < qubits:\n",
    "        qc.h(q[i]) # put all qubits into superposition states\n",
    "        i = i + 1\n",
    "   \n",
    "    qc.measure(q, c) # collapse the superpositions and get random zeroes and ones\n",
    "    job = execute(qc, backend=backend, shots=1)\n",
    "    job_monitor(job)\n",
    "    result = job.result()\n",
    "    mraw = result.get_counts(qc)\n",
    "    m = str(mraw)\n",
    "    subtotal = 0\n",
    "    for i in range(qubits):\n",
    "        subtotal = subtotal + (int(m[i+2]) * 2**(i)) # convert each binary digit to its decimal value, but read left-to-right for simplicity\n",
    "    multiplier = subtotal / (2**qubits) # convert the measurement to a value between 0 and 1\n",
    "    \n",
    "    return multiplier"
   ]
  },
  {
   "cell_type": "markdown",
   "metadata": {},
   "source": [
    "### Rede Neural\n",
    "\n",
    "A rede neural calculada é **simples**, e utiliza fórmula básica para calculo dos pesos de acordo com a quântidade de entradas. É uma função com características lineares:\n",
    "\\\n",
    "![E_formula](./img/formula.png)\n",
    "\\\n",
    "O retorno que virá do processamento quântico serão os pesos calculados para ela após o treino.\n",
    "\\\n",
    "\\\n",
    "**Info extra:** De acordo com essa imagem aqui e com as referências:\n",
    "\\\n",
    "![RNN_Deep_RNN](./img/net.png)\n",
    "\\\n",
    "Uma rede profunda é aquela que possue múltiplas camadas de características não-lineares, segundo Alexey Grigoryevich Ivakhnenko (desenvolveu o Método do Grupo de Manipulação de Dados) e Valentin Grigor’evich Lapa (autor de Cybernetics and Forecasting Techniques) em 1965."
   ]
  },
  {
   "cell_type": "code",
   "execution_count": 3,
   "metadata": {},
   "outputs": [],
   "source": [
    "class neural_network:\n",
    "    def __init__(self):\n",
    "        self.weights = []\n",
    "        self.weights.append([qquniform(-1, 1)])\n",
    "        self.weights.append([qquniform(-1, 1)])\n",
    "        print(\"self.weights \",self.weights)\n",
    "\n",
    "    def train(self, inputs, outputs, num):\n",
    "        for iteration in range(num):\n",
    "            output = self.think(inputs)\n",
    "            error = outputs - output\n",
    "            adjustment = 0.01*dot(inputs.T, error)\n",
    "            self.weights += adjustment\n",
    "\n",
    "    def think(self, inputs):\n",
    "        return (dot(inputs, self.weights))\n"
   ]
  },
  {
   "cell_type": "markdown",
   "metadata": {},
   "source": [
    "### Run \n",
    "- Um conjunto de entradas para um dado array de saída aleatório"
   ]
  },
  {
   "cell_type": "code",
   "execution_count": 4,
   "metadata": {},
   "outputs": [
    {
     "name": "stderr",
     "output_type": "stream",
     "text": [
      "/Users/flaviajanine/.virtualenvs/qiskit_VQE/lib/python3.6/site-packages/qiskit/providers/models/backendconfiguration.py:337: UserWarning: `dt` and `dtm` now have units of seconds(s) rather than nanoseconds(ns).\n",
      "  warnings.warn('`dt` and `dtm` now have units of seconds(s) rather '\n"
     ]
    },
    {
     "name": "stdout",
     "output_type": "stream",
     "text": [
      "Job Status: job has successfully run\n"
     ]
    },
    {
     "name": "stderr",
     "output_type": "stream",
     "text": [
      "Credentials are already in use. The existing account in the session will be replaced.\n"
     ]
    },
    {
     "name": "stdout",
     "output_type": "stream",
     "text": [
      "Job Status: job has successfully run\n",
      "self.weights  [[0.25537109375], [-0.5458984375]]\n",
      "[34.]\n"
     ]
    }
   ],
   "source": [
    "neural_network = neural_network()\n",
    "\n",
    "# training data\n",
    "inputs = array([[2, 3], [1, 1], [5, 2], [12, 3]])\n",
    "outputs = array([[10, 4, 14, 30]]).T\n",
    "\n",
    "neural_network.train(inputs, outputs, 10000)\n",
    "\n",
    "print(neural_network.think(array([15, 2])))"
   ]
  },
  {
   "cell_type": "markdown",
   "metadata": {},
   "source": [
    "### Resultados\n",
    "\n",
    "- O resultado acima foi para o circuito com 1 qbit:\n",
    "\\\n",
    "![singleQ](./img/single.png)\n",
    "\n",
    "- Job Status: job has successfully run\n",
    "\n",
    "```python\n",
    "Self.weights: [[0.0], [-1.0]]\n",
    "Output: [14.]\n",
    "```\n",
    "- Gerou os pesos listados acima, em formato de array de tuplas, como resultado do Job \"print\"\n",
    "\n",
    "- Para o circuito com 5 qbits:\n",
    "\\\n",
    "![fiveQ](./img/five.png)\n",
    "\n",
    "- O array com pesos foi retornado:\n",
    "\\\n",
    "![resultfiveQ](./img/resultfive.jpeg)\n"
   ]
  },
  {
   "cell_type": "code",
   "execution_count": null,
   "metadata": {},
   "outputs": [],
   "source": []
  }
 ],
 "metadata": {
  "kernelspec": {
   "display_name": "Python 3",
   "language": "python",
   "name": "python3"
  },
  "language_info": {
   "codemirror_mode": {
    "name": "ipython",
    "version": 3
   },
   "file_extension": ".py",
   "mimetype": "text/x-python",
   "name": "python",
   "nbconvert_exporter": "python",
   "pygments_lexer": "ipython3",
   "version": "3.6.8"
  }
 },
 "nbformat": 4,
 "nbformat_minor": 2
}
