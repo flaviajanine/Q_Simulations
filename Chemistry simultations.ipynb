{
 "cells": [
  {
   "cell_type": "markdown",
   "metadata": {},
   "source": [
    "# Chemistry Simulations "
   ]
  },
  {
   "cell_type": "markdown",
   "metadata": {},
   "source": [
    "Getting started with qiskit aqua."
   ]
  },
  {
   "cell_type": "code",
   "execution_count": 2,
   "metadata": {},
   "outputs": [
    {
     "name": "stderr",
     "output_type": "stream",
     "text": [
      "Numpy 1.16 has memory leak bug  https://github.com/numpy/numpy/issues/13808\n",
      "It is recommended to downgrade to numpy 1.15 or older\n"
     ]
    }
   ],
   "source": [
    "from qiskit.chemistry import FermionicOperator\n",
    "from qiskit.chemistry.drivers import PySCFDriver, UnitsType"
   ]
  },
  {
   "cell_type": "markdown",
   "metadata": {},
   "source": [
    "- Use PySCF, a classical computational chemistry software package, to compute the one-body and two-body integrals in molecular-orbital basis, necessary to form the Fermionic operator"
   ]
  },
  {
   "cell_type": "code",
   "execution_count": 3,
   "metadata": {},
   "outputs": [],
   "source": [
    "driver = PySCFDriver(atom='H .0 .0 .0; H .0 .0 0.735',\n",
    "                    unit=UnitsType.ANGSTROM,\n",
    "                    basis='sto3g')\n",
    "molecule = driver.run()\n",
    "num_particles = molecule.num_alpha + molecule.num_beta\n",
    "num_spin_orbitals = molecule.num_orbitals * 2"
   ]
  },
  {
   "cell_type": "markdown",
   "metadata": {},
   "source": [
    "- Build the qubit operator, which is the input to the VQE algorithm in Aqua"
   ]
  },
  {
   "cell_type": "code",
   "execution_count": 4,
   "metadata": {},
   "outputs": [
    {
     "name": "stderr",
     "output_type": "stream",
     "text": [
      "/Users/flaviajanine/Documents/GitHub/Q_Simulations/q_simulations/lib/python3.6/site-packages/qiskit/aqua/operators/base_operator.py:182: DeprecationWarning: two_qubit_reduced_operator method is deprecated and it will be removed after 0.6. Now it is moved to the `Z2Symmetries` class as a classmethod. Z2Symmeteries.two_qubit_reduction(num_particles)\n",
      "  DeprecationWarning)\n"
     ]
    }
   ],
   "source": [
    "ferOp = FermionicOperator(h1=molecule.one_body_integrals, h2=molecule.two_body_integrals)\n",
    "map_type = 'PARITY'\n",
    "qubitOp = ferOp.mapping(map_type)\n",
    "qubitOp = qubitOp.two_qubit_reduced_operator(num_particles)\n",
    "num_qubits = qubitOp.num_qubits\n",
    "\n",
    "# set the backend for the quantum computation\n",
    "from qiskit import Aer\n",
    "backend = Aer.get_backend('statevector_simulator')\n",
    "\n",
    "# setup a classical optimizer for VQE\n",
    "from qiskit.aqua.components.optimizers import L_BFGS_B\n",
    "optimizer = L_BFGS_B()\n",
    "\n",
    "# setup the initial state for the variational form\n",
    "from qiskit.chemistry.aqua_extensions.components.initial_states import HartreeFock\n",
    "init_state = HartreeFock(num_qubits, num_spin_orbitals, num_particles)\n",
    "\n",
    "# setup the variational form for VQE\n",
    "from qiskit.aqua.components.variational_forms import RYRZ\n",
    "var_form = RYRZ(num_qubits, initial_state=init_state)"
   ]
  },
  {
   "cell_type": "markdown",
   "metadata": {},
   "source": [
    "- setup and run VQE"
   ]
  },
  {
   "cell_type": "code",
   "execution_count": 5,
   "metadata": {},
   "outputs": [
    {
     "name": "stdout",
     "output_type": "stream",
     "text": [
      "-1.857275030182234\n"
     ]
    }
   ],
   "source": [
    "from qiskit.aqua.algorithms import VQE\n",
    "algorithm = VQE(qubitOp, var_form, optimizer)\n",
    "result = algorithm.run(backend)\n",
    "print(result['energy'])"
   ]
  },
  {
   "cell_type": "code",
   "execution_count": null,
   "metadata": {},
   "outputs": [],
   "source": []
  }
 ],
 "metadata": {
  "kernelspec": {
   "display_name": "Python 3",
   "language": "python",
   "name": "python3"
  },
  "language_info": {
   "codemirror_mode": {
    "name": "ipython",
    "version": 3
   },
   "file_extension": ".py",
   "mimetype": "text/x-python",
   "name": "python",
   "nbconvert_exporter": "python",
   "pygments_lexer": "ipython3",
   "version": "3.6.8"
  }
 },
 "nbformat": 4,
 "nbformat_minor": 2
}
